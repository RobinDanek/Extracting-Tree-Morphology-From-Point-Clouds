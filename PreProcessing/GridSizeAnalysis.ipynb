{
 "cells": [
  {
   "cell_type": "markdown",
   "metadata": {},
   "source": [
    "This notebook is used to get an insight into what voxelization size is adequate for the data. This is done by finding the nearest neighbour for each point in a pointcloud and investigating the resulting distribution"
   ]
  },
  {
   "cell_type": "code",
   "execution_count": 7,
   "metadata": {},
   "outputs": [],
   "source": [
    "import os\n",
    "import sys\n",
    "import pandas as pd\n",
    "import numpy as np\n",
    "import matplotlib.pyplot as plt\n",
    "import seaborn as sns\n",
    "from fastprogress import master_bar, progress_bar\n",
    "from scipy.spatial import cKDTree\n",
    "from scipy import stats\n",
    "\n",
    "# Get access to all the files in the repository\n",
    "cwd = os.getcwd()\n",
    "parentDir = os.path.dirname( cwd )\n",
    "sys.path.append(parentDir)"
   ]
  },
  {
   "cell_type": "markdown",
   "metadata": {},
   "source": [
    "In the following code the usual distance between a point and its nearest neighbour is investigated. For this for each point cloud a distribution of distance is generated. This distribution is then binned and its mode is determined. Then for all clouds the modes are saved and the distribution of modes is generated."
   ]
  },
  {
   "cell_type": "code",
   "execution_count": null,
   "metadata": {},
   "outputs": [],
   "source": [
    "def calculate_nearest_neighbor_distances(cloud):\n",
    "    \"\"\"\n",
    "    Calculate the distances to the nearest neighbor for each point in the cloud.\n",
    "    \n",
    "    Args:\n",
    "        cloud: A numpy array of shape (N, 3) representing the point cloud.\n",
    "    \n",
    "    Returns:\n",
    "        distances: A numpy array containing the distances to the nearest neighbor for each point.\n",
    "    \"\"\"\n",
    "    # Create a k-d tree for fast nearest neighbor search\n",
    "    tree = cKDTree(cloud)\n",
    "    \n",
    "    # Query the tree to get the nearest neighbor distance for each point (excluding itself)\n",
    "    distances, _ = tree.query(cloud, k=2)  # k=2 because the nearest neighbor to a point is the point itself\n",
    "    \n",
    "    # The first value in distances is the distance to itself, so we take the second value\n",
    "    return distances[:, 1]  # Return distances to the nearest neighbors\n",
    "\n",
    "\n",
    "def get_nn_distance_mode_distribution( cloudDir, plotSavePath=None ):\n",
    "    \"\"\"\n",
    "    Create a distribution of modes of the distribution of nearest neighbour distances over the pointclouds in the data.\n",
    "\n",
    "    Args:\n",
    "        cloudDir: A path to the directory where the clouds are stored as .npy files\n",
    "        plotSavePath: A path to the directory were the resulting plot should be stored\n",
    "\n",
    "    Returns:\n",
    "        modes: An array of all the modes of the distributions of points in the individual clouds\n",
    "    \"\"\"\n",
    "    # Create a list of paths to all the .txt files of pointclouds\n",
    "    npy_files = [os.path.join( cloudDir, file ) for file in os.listdir( cloudDir ) if file.endswith(\".npy\") ]\n",
    "\n",
    "    modes = []\n",
    "    # Create binning with width of 1mm\n",
    "    bins = np.arange(0.0,1.001,0.001)\n",
    "    print(\"Calculating modes...\")\n",
    "    for file in progress_bar(npy_files):\n",
    "        # Load the cloud\n",
    "        cloud = np.load(file)\n",
    "\n",
    "        # Get array of distance to nearest neighbour\n",
    "        distances = calculate_nearest_neighbor_distances(cloud)\n",
    "\n",
    "        # Bin the distances, find the most occupied bin and calculate its according distance\n",
    "        binned = np.digitize( distances, bins )\n",
    "        mode, count = stats.mode( binned, keepdims=True )\n",
    "        modes.extend((mode*0.001-0.001)*100)\n",
    "\n",
    "    # Find the mode and average of the distribution of modes\n",
    "    modeOfModes, count = stats.mode( modes, keepdims=True )\n",
    "    avgOfModes = np.mean( modes )\n",
    "    # Plot\n",
    "    plt.figure()\n",
    "    plt.hist(modes, bins=50, density=True)\n",
    "    plt.vlines(modeOfModes[0], ymin=0, ymax=30, linestyle='dashed', color='red', label='mode')\n",
    "    plt.vlines(avgOfModes, ymin=0, ymax=30, linestyle='dotted', color='green', label='average')\n",
    "    plt.xlabel(\"Mode of nearest neighbour distribution [cm]\")\n",
    "    plt.ylabel(\"PDF\")\n",
    "    plt.title(\"Distribution of Modes of Nearest Neighbour Distance Distributions\")\n",
    "    plt.grid()\n",
    "    plt.legend()\n",
    "\n",
    "    if plotSavePath:\n",
    "        plt.savefig( os.path.join(plotSavePath, \"Mode_distribution.png\"), dpi=300 )\n",
    "\n",
    "    plt.show()\n",
    "    return modes"
   ]
  },
  {
   "cell_type": "code",
   "execution_count": 24,
   "metadata": {},
   "outputs": [
    {
     "name": "stdout",
     "output_type": "stream",
     "text": [
      "Calculating modes...\n"
     ]
    },
    {
     "data": {
      "text/html": [
       "\n",
       "<style>\n",
       "    /* Turns off some styling */\n",
       "    progress {\n",
       "        /* gets rid of default border in Firefox and Opera. */\n",
       "        border: none;\n",
       "        /* Needs to be in here for Safari polyfill so background images work as expected. */\n",
       "        background-size: auto;\n",
       "    }\n",
       "    progress:not([value]), progress:not([value])::-webkit-progress-bar {\n",
       "        background: repeating-linear-gradient(45deg, #7e7e7e, #7e7e7e 10px, #5c5c5c 10px, #5c5c5c 20px);\n",
       "    }\n",
       "    .progress-bar-interrupted, .progress-bar-interrupted::-webkit-progress-bar {\n",
       "        background: #F44336;\n",
       "    }\n",
       "</style>\n"
      ],
      "text/plain": [
       "<IPython.core.display.HTML object>"
      ]
     },
     "metadata": {},
     "output_type": "display_data"
    },
    {
     "data": {
      "text/html": [
       "\n",
       "    <div>\n",
       "      <progress value='153' class='' max='153' style='width:300px; height:20px; vertical-align: middle;'></progress>\n",
       "      100.00% [153/153 01:31&lt;00:00]\n",
       "    </div>\n",
       "    "
      ],
      "text/plain": [
       "<IPython.core.display.HTML object>"
      ]
     },
     "metadata": {},
     "output_type": "display_data"
    },
    {
     "data": {
      "image/png": "[encoded data removed]",
      "text/plain": [
       "<Figure size 432x288 with 1 Axes>"
      ]
     },
     "metadata": {
      "needs_background": "light"
     },
     "output_type": "display_data"
    }
   ],
   "source": [
    "pointCloudDir = os.path.join( parentDir, \"data\", \"raw\", \"cloud\" )\n",
    "\n",
    "plotSavePath = os.path.join(parentDir,\"plots\",\"DataAnalysis\")\n",
    "\n",
    "modes = get_nn_distance_mode_distribution( cloudDir=pointCloudDir, plotSavePath=plotSavePath )"
   ]
  },
  {
   "cell_type": "code",
   "execution_count": null,
   "metadata": {},
   "outputs": [],
   "source": []
  }
 ],
 "metadata": {
  "kernelspec": {
   "display_name": "Python 3",
   "language": "python",
   "name": "python3"
  },
  "language_info": {
   "codemirror_mode": {
    "name": "ipython",
    "version": 3
   },
   "file_extension": ".py",
   "mimetype": "text/x-python",
   "name": "python",
   "nbconvert_exporter": "python",
   "pygments_lexer": "ipython3",
   "version": "3.10.4"
  }
 },
 "nbformat": 4,
 "nbformat_minor": 2
}
