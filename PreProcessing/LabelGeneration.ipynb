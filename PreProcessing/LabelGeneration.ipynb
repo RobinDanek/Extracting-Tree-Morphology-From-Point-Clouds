{
 "cells": [
  {
   "cell_type": "markdown",
   "metadata": {},
   "source": [
    "This notebook is used to develop functions for creating pointcloud labels from the cylinder models. Both the offset-vectors as well as the noise-labels are generated"
   ]
  },
  {
   "cell_type": "code",
   "execution_count": 5,
   "metadata": {},
   "outputs": [],
   "source": [
    "import numpy as np\n",
    "import matplotlib.pyplot as plt\n",
    "import pandas as pd\n",
    "from fastprogress import progress_bar, master_bar\n",
    "import os \n",
    "import sys\n",
    "\n",
    "# Get access to all the files in the repository\n",
    "cwd = os.getcwd()\n",
    "parentDir = os.path.dirname( cwd )\n",
    "sys.path.append(parentDir)"
   ]
  },
  {
   "cell_type": "markdown",
   "metadata": {},
   "source": [
    "First load a single cylinder and test the function for finding the closest cylinder"
   ]
  },
  {
   "cell_type": "code",
   "execution_count": 24,
   "metadata": {},
   "outputs": [
    {
     "name": "stdout",
     "output_type": "stream",
     "text": [
      "Index(['type', ' ID', ' parentID', ' startX', ' startY', ' startZ', ' endX',\n",
      "       ' endY', ' endZ', ' radius', ' volume', ' growthVolume', ' length',\n",
      "       ' growthLength', ' FittingType', 'segmentID', ' parentSegmentID',\n",
      "       ' segmentMedianRadius', ' segmentGrowthVolume', ' segmentGrowthLength',\n",
      "       ' branchOrder', ' reverseBranchOrder', ' reversePipeRadiusBranchorder',\n",
      "       ' reversePipeAreaBranchorder', ' branchID', ' treeID', ' treeSpecies',\n",
      "       ' translateX', ' translateY', ' translatez', ' gvA', ' gvB', ' gvC',\n",
      "       ' glA', ' glB', ' glC'],\n",
      "      dtype='object')\n",
      "Index(['type', 'ID', 'parentID', 'startX', 'startY', 'startZ', 'endX', 'endY',\n",
      "       'endZ', 'radius', 'volume', 'growthVolume', 'length', 'growthLength',\n",
      "       'FittingType', 'segmentID', 'parentSegmentID', 'segmentMedianRadius',\n",
      "       'segmentGrowthVolume', 'segmentGrowthLength', 'branchOrder',\n",
      "       'reverseBranchOrder', 'reversePipeRadiusBranchorder',\n",
      "       'reversePipeAreaBranchorder', 'branchID', 'treeID', 'treeSpecies',\n",
      "       'translateX', 'translateY', 'translatez', 'gvA', 'gvB', 'gvC', 'glA',\n",
      "       'glB', 'glC'],\n",
      "      dtype='object')\n"
     ]
    },
    {
     "data": {
      "text/html": [
       "<div>\n",
       "<style scoped>\n",
       "    .dataframe tbody tr th:only-of-type {\n",
       "        vertical-align: middle;\n",
       "    }\n",
       "\n",
       "    .dataframe tbody tr th {\n",
       "        vertical-align: top;\n",
       "    }\n",
       "\n",
       "    .dataframe thead th {\n",
       "        text-align: right;\n",
       "    }\n",
       "</style>\n",
       "<table border=\"1\" class=\"dataframe\">\n",
       "  <thead>\n",
       "    <tr style=\"text-align: right;\">\n",
       "      <th></th>\n",
       "      <th>type</th>\n",
       "      <th>ID</th>\n",
       "      <th>parentID</th>\n",
       "      <th>startX</th>\n",
       "      <th>startY</th>\n",
       "      <th>startZ</th>\n",
       "      <th>endX</th>\n",
       "      <th>endY</th>\n",
       "      <th>endZ</th>\n",
       "      <th>radius</th>\n",
       "      <th>...</th>\n",
       "      <th>treeSpecies</th>\n",
       "      <th>translateX</th>\n",
       "      <th>translateY</th>\n",
       "      <th>translatez</th>\n",
       "      <th>gvA</th>\n",
       "      <th>gvB</th>\n",
       "      <th>gvC</th>\n",
       "      <th>glA</th>\n",
       "      <th>glB</th>\n",
       "      <th>glC</th>\n",
       "    </tr>\n",
       "  </thead>\n",
       "  <tbody>\n",
       "    <tr>\n",
       "      <th>0</th>\n",
       "      <td>cylinder</td>\n",
       "      <td>0</td>\n",
       "      <td>-1</td>\n",
       "      <td>27.268867</td>\n",
       "      <td>23.687374</td>\n",
       "      <td>-1.574510</td>\n",
       "      <td>27.310114</td>\n",
       "      <td>23.677517</td>\n",
       "      <td>-1.342370</td>\n",
       "      <td>0.147356</td>\n",
       "      <td>...</td>\n",
       "      <td>unknownSpecies</td>\n",
       "      <td>0.0</td>\n",
       "      <td>0.0</td>\n",
       "      <td>0.0</td>\n",
       "      <td>0.01</td>\n",
       "      <td>0.401606</td>\n",
       "      <td>0.0</td>\n",
       "      <td>0.01</td>\n",
       "      <td>0.401606</td>\n",
       "      <td>0.0</td>\n",
       "    </tr>\n",
       "    <tr>\n",
       "      <th>1</th>\n",
       "      <td>cylinder</td>\n",
       "      <td>1</td>\n",
       "      <td>0</td>\n",
       "      <td>27.310114</td>\n",
       "      <td>23.677517</td>\n",
       "      <td>-1.342370</td>\n",
       "      <td>27.323258</td>\n",
       "      <td>23.685699</td>\n",
       "      <td>-1.127219</td>\n",
       "      <td>0.147300</td>\n",
       "      <td>...</td>\n",
       "      <td>unknownSpecies</td>\n",
       "      <td>0.0</td>\n",
       "      <td>0.0</td>\n",
       "      <td>0.0</td>\n",
       "      <td>0.01</td>\n",
       "      <td>0.401606</td>\n",
       "      <td>0.0</td>\n",
       "      <td>0.01</td>\n",
       "      <td>0.401606</td>\n",
       "      <td>0.0</td>\n",
       "    </tr>\n",
       "    <tr>\n",
       "      <th>2</th>\n",
       "      <td>cylinder</td>\n",
       "      <td>2</td>\n",
       "      <td>1</td>\n",
       "      <td>27.323258</td>\n",
       "      <td>23.685699</td>\n",
       "      <td>-1.127219</td>\n",
       "      <td>27.372589</td>\n",
       "      <td>23.700213</td>\n",
       "      <td>-0.947553</td>\n",
       "      <td>0.147255</td>\n",
       "      <td>...</td>\n",
       "      <td>unknownSpecies</td>\n",
       "      <td>0.0</td>\n",
       "      <td>0.0</td>\n",
       "      <td>0.0</td>\n",
       "      <td>0.01</td>\n",
       "      <td>0.401606</td>\n",
       "      <td>0.0</td>\n",
       "      <td>0.01</td>\n",
       "      <td>0.401606</td>\n",
       "      <td>0.0</td>\n",
       "    </tr>\n",
       "    <tr>\n",
       "      <th>3</th>\n",
       "      <td>cylinder</td>\n",
       "      <td>3</td>\n",
       "      <td>2</td>\n",
       "      <td>27.372589</td>\n",
       "      <td>23.700213</td>\n",
       "      <td>-0.947553</td>\n",
       "      <td>27.363788</td>\n",
       "      <td>23.667894</td>\n",
       "      <td>-0.756015</td>\n",
       "      <td>0.147214</td>\n",
       "      <td>...</td>\n",
       "      <td>unknownSpecies</td>\n",
       "      <td>0.0</td>\n",
       "      <td>0.0</td>\n",
       "      <td>0.0</td>\n",
       "      <td>0.01</td>\n",
       "      <td>0.401606</td>\n",
       "      <td>0.0</td>\n",
       "      <td>0.01</td>\n",
       "      <td>0.401606</td>\n",
       "      <td>0.0</td>\n",
       "    </tr>\n",
       "    <tr>\n",
       "      <th>4</th>\n",
       "      <td>cylinder</td>\n",
       "      <td>4</td>\n",
       "      <td>3</td>\n",
       "      <td>27.363788</td>\n",
       "      <td>23.667894</td>\n",
       "      <td>-0.756015</td>\n",
       "      <td>27.380559</td>\n",
       "      <td>23.656645</td>\n",
       "      <td>-0.605488</td>\n",
       "      <td>0.147182</td>\n",
       "      <td>...</td>\n",
       "      <td>unknownSpecies</td>\n",
       "      <td>0.0</td>\n",
       "      <td>0.0</td>\n",
       "      <td>0.0</td>\n",
       "      <td>0.01</td>\n",
       "      <td>0.401606</td>\n",
       "      <td>0.0</td>\n",
       "      <td>0.01</td>\n",
       "      <td>0.401606</td>\n",
       "      <td>0.0</td>\n",
       "    </tr>\n",
       "  </tbody>\n",
       "</table>\n",
       "<p>5 rows × 36 columns</p>\n",
       "</div>"
      ],
      "text/plain": [
       "       type  ID  parentID     startX     startY    startZ       endX  \\\n",
       "0  cylinder   0        -1  27.268867  23.687374 -1.574510  27.310114   \n",
       "1  cylinder   1         0  27.310114  23.677517 -1.342370  27.323258   \n",
       "2  cylinder   2         1  27.323258  23.685699 -1.127219  27.372589   \n",
       "3  cylinder   3         2  27.372589  23.700213 -0.947553  27.363788   \n",
       "4  cylinder   4         3  27.363788  23.667894 -0.756015  27.380559   \n",
       "\n",
       "        endY      endZ    radius  ...      treeSpecies  translateX  \\\n",
       "0  23.677517 -1.342370  0.147356  ...   unknownSpecies         0.0   \n",
       "1  23.685699 -1.127219  0.147300  ...   unknownSpecies         0.0   \n",
       "2  23.700213 -0.947553  0.147255  ...   unknownSpecies         0.0   \n",
       "3  23.667894 -0.756015  0.147214  ...   unknownSpecies         0.0   \n",
       "4  23.656645 -0.605488  0.147182  ...   unknownSpecies         0.0   \n",
       "\n",
       "   translateY  translatez   gvA       gvB  gvC   glA       glB  glC  \n",
       "0         0.0         0.0  0.01  0.401606  0.0  0.01  0.401606  0.0  \n",
       "1         0.0         0.0  0.01  0.401606  0.0  0.01  0.401606  0.0  \n",
       "2         0.0         0.0  0.01  0.401606  0.0  0.01  0.401606  0.0  \n",
       "3         0.0         0.0  0.01  0.401606  0.0  0.01  0.401606  0.0  \n",
       "4         0.0         0.0  0.01  0.401606  0.0  0.01  0.401606  0.0  \n",
       "\n",
       "[5 rows x 36 columns]"
      ]
     },
     "execution_count": 24,
     "metadata": {},
     "output_type": "execute_result"
    }
   ],
   "source": [
    "cylinders = pd.read_csv( os.path.join(parentDir, 'data', 'raw', 'QSM', 'detailed', '33_1_000000.csv'), header=0)\n",
    "print(cylinders.columns)\n",
    "cylinders.columns = cylinders.columns.str.strip() # Clean whitespaces\n",
    "print(cylinders.columns)\n",
    "cylinders.head()"
   ]
  },
  {
   "cell_type": "markdown",
   "metadata": {},
   "source": [
    "For speeding up the process of finding the nearest cylinder check the length distribution of cylinders"
   ]
  },
  {
   "cell_type": "code",
   "execution_count": 56,
   "metadata": {},
   "outputs": [
    {
     "data": {
      "text/plain": [
       "(array([128., 173., 180., 227., 269., 229., 234., 192., 222., 257., 249.,\n",
       "        220., 193., 163., 145., 106., 124.,  82.,  73.,  50.,  34.,  25.,\n",
       "         23.,  25.,  15.,   9.,   4.,   5.,   7.,   4.,   1.,   2.,   2.,\n",
       "          5.,   1.,   0.,   2.,   0.,   2.,   0.,   1.,   2.,   0.,   0.,\n",
       "          0.,   0.,   0.,   0.,   0.,   1.]),\n",
       " array([ 0.32058075,  1.18024668,  2.0399126 ,  2.89957853,  3.75924446,\n",
       "         4.61891038,  5.47857631,  6.33824224,  7.19790817,  8.05757409,\n",
       "         8.91724002,  9.77690595, 10.63657188, 11.4962378 , 12.35590373,\n",
       "        13.21556966, 14.07523558, 14.93490151, 15.79456744, 16.65423337,\n",
       "        17.51389929, 18.37356522, 19.23323115, 20.09289707, 20.952563  ,\n",
       "        21.81222893, 22.67189486, 23.53156078, 24.39122671, 25.25089264,\n",
       "        26.11055857, 26.97022449, 27.82989042, 28.68955635, 29.54922227,\n",
       "        30.4088882 , 31.26855413, 32.12822006, 32.98788598, 33.84755191,\n",
       "        34.70721784, 35.56688376, 36.42654969, 37.28621562, 38.14588155,\n",
       "        39.00554747, 39.8652134 , 40.72487933, 41.58454526, 42.44421118,\n",
       "        43.30387711]),\n",
       " <BarContainer object of 50 artists>)"
      ]
     },
     "execution_count": 56,
     "metadata": {},
     "output_type": "execute_result"
    },
    {
     "data": {
      "image/png": "[encoded data removed]",
      "text/plain": [
       "<Figure size 432x288 with 2 Axes>"
      ]
     },
     "metadata": {
      "needs_background": "light"
     },
     "output_type": "display_data"
    }
   ],
   "source": [
    "lengths = []\n",
    "relativeLengths = []\n",
    "for _, cylinder in cylinders.iterrows():\n",
    "    start = np.array([cylinder['startX'], cylinder['startY'], cylinder['startZ']])\n",
    "    end = np.array([cylinder['endX'], cylinder['endY'], cylinder['endZ']])\n",
    "    radius = cylinder['radius']\n",
    "    lengths.append( np.linalg.norm(start-end) )\n",
    "    relativeLengths.append( np.linalg.norm(start-end)/radius )\n",
    "\n",
    "fig, ax = plt.subplots(1,2)\n",
    "ax[0].hist(lengths, bins=50)\n",
    "ax[1].hist(relativeLengths, bins=50)"
   ]
  },
  {
   "cell_type": "code",
   "execution_count": 61,
   "metadata": {},
   "outputs": [],
   "source": [
    "def closest_cylinder(point, cylinders):\n",
    "    \"\"\"\n",
    "    Find the closest cylinder to a given point in 3D space.\n",
    "\n",
    "    Parameters:\n",
    "        point: A 3D point as a numpy array [x, y, z].\n",
    "        cylinders: A list of dictionaries, where each dictionary represents a cylinder with:\n",
    "                   - 'start': The start point of the cylinder axis as a numpy array [x, y, z].\n",
    "                   - 'end': The end point of the cylinder axis as a numpy array [x, y, z].\n",
    "                   - 'radius': The radius of the cylinder.\n",
    "\n",
    "    Returns:\n",
    "        The index of the closest cylinder and the corresponding distance.\n",
    "    \"\"\"\n",
    "    closest_distance = float('inf')\n",
    "    closest_index = -1\n",
    "    closet_offset_vector = np.zeros(3)\n",
    "\n",
    "    for _, cylinder in cylinders.iterrows():\n",
    "        start = np.array([cylinder['startX'], cylinder['startY'], cylinder['startZ']])\n",
    "        end = np.array([cylinder['endX'], cylinder['endY'], cylinder['endZ']])\n",
    "        radius = cylinder['radius']\n",
    "        id = cylinder['ID']\n",
    "\n",
    "        if np.linalg.norm(point - start) < radius*10 or np.linalg.norm(point-end) < radius*10:\n",
    "\n",
    "            # Cylinder axis vector\n",
    "            axis = end - start\n",
    "            axis_length = np.linalg.norm(axis)\n",
    "            axis_unit = axis / axis_length\n",
    "\n",
    "            # Vector from start point to the given point\n",
    "            point_vector = point - start\n",
    "\n",
    "            # Projection of point_vector onto the cylinder axis\n",
    "            projection_length = np.dot(point_vector, axis_unit)\n",
    "            projection_point = start + projection_length * axis_unit\n",
    "\n",
    "            # Clamp the projection point to the cylinder segment\n",
    "            projection_length_clamped = np.clip(projection_length, 0, axis_length)\n",
    "            projection_point_clamped = start + projection_length_clamped * axis_unit\n",
    "\n",
    "            # Compute the distance from the point to the clamped projection point\n",
    "            distance_to_axis = np.linalg.norm(point - projection_point_clamped)\n",
    "\n",
    "            # Subtract the cylinder radius to get the distance to the cylinder surface\n",
    "            distance_to_cylinder_surface = abs(distance_to_axis - radius)\n",
    "\n",
    "            # Update the closest cylinder\n",
    "            if distance_to_cylinder_surface < closest_distance:\n",
    "                closest_distance = distance_to_cylinder_surface\n",
    "                closest_index = id\n",
    "                closet_offset_vector = projection_point_clamped - point\n",
    "\n",
    "    if closest_index == -1:\n",
    "        print(\"Noise!\")\n",
    "\n",
    "    return closest_index, closest_distance, closet_offset_vector\n",
    "\n",
    "def closest_cylinder_vectorized(point, cylinders):\n",
    "    # Extract numpy arrays from the DataFrame\n",
    "    start = cylinders[['startX', 'startY', 'startZ']].to_numpy()\n",
    "    end = cylinders[['endX', 'endY', 'endZ']].to_numpy()\n",
    "    radius = cylinders['radius'].to_numpy()\n",
    "    IDs = cylinders['ID'].to_numpy()\n",
    "\n",
    "    # Compute axis vectors and lengths\n",
    "    axis = end - start\n",
    "    axis_length = np.linalg.norm(axis, axis=1)\n",
    "    axis_unit = axis / axis_length[:, np.newaxis]\n",
    "\n",
    "    # Compute vectors from start to the point\n",
    "    point_vector = point - start\n",
    "\n",
    "    # Project point_vector onto the cylinder axis\n",
    "    projection_length = np.sum(point_vector * axis_unit, axis=1)\n",
    "    projection_point = start + projection_length[:, np.newaxis] * axis_unit\n",
    "\n",
    "    # Clamp projection to the cylinder segment\n",
    "    projection_length_clamped = np.clip(projection_length, 0, axis_length)\n",
    "    projection_point_clamped = start + projection_length_clamped[:, np.newaxis] * axis_unit\n",
    "\n",
    "    # Compute distances to the cylinder surface\n",
    "    distances_to_axis = np.linalg.norm(point - projection_point_clamped, axis=1)\n",
    "    distances_to_surface = np.abs(distances_to_axis - radius)\n",
    "\n",
    "    # Find the closest cylinder\n",
    "    closest_idx = np.argmin(distances_to_surface)\n",
    "    return IDs[closest_idx], distances_to_surface[closest_idx], projection_point_clamped[closest_idx] - point"
   ]
  },
  {
   "cell_type": "code",
   "execution_count": 62,
   "metadata": {},
   "outputs": [
    {
     "name": "stdout",
     "output_type": "stream",
     "text": [
      "The closest cylinder is at index 1111 with a distance of 0.7411319073719704 and vector [0.676347 0.217995 0.321168]\n"
     ]
    }
   ],
   "source": [
    "# Example usage\n",
    "point = np.array([26, 23, 20])\n",
    "\n",
    "closest_idx, closest_dist, closet_offset_vector = closest_cylinder_vectorized(point, cylinders)\n",
    "print(f\"The closest cylinder is at index {closest_idx} with a distance of {closest_dist} and vector {closet_offset_vector}\")"
   ]
  },
  {
   "cell_type": "markdown",
   "metadata": {},
   "source": [
    "Now load an example pointcloud and perform the cylinder finding for every point"
   ]
  },
  {
   "cell_type": "code",
   "execution_count": 64,
   "metadata": {},
   "outputs": [],
   "source": [
    "cloudPath = os.path.join( parentDir, \"data\", \"raw\", \"cloud\", \"33_1.npy\" )\n",
    "cloud = np.load(cloudPath)\n",
    "\n",
    "def generate_offset_cloud( cloud, cylinders, masterBar=None ):\n",
    "\n",
    "    output_data = np.zeros((len(cloud), 7)) # point coordinates, offset vector, cylinder ID\n",
    "\n",
    "    for i, point in progress_bar(enumerate(cloud), total=len(cloud), master=masterBar):\n",
    "    # for i, point in enumerate(cloud):\n",
    "        index, distance, offset_vector = closest_cylinder_vectorized( point, cylinders )\n",
    "\n",
    "        output_data[i] = np.concatenate( (point, offset_vector, [index]) )\n",
    "\n",
    "    return output_data\n"
   ]
  },
  {
   "cell_type": "code",
   "execution_count": 65,
   "metadata": {},
   "outputs": [
    {
     "data": {
      "text/html": [
       "\n",
       "<style>\n",
       "    /* Turns off some styling */\n",
       "    progress {\n",
       "        /* gets rid of default border in Firefox and Opera. */\n",
       "        border: none;\n",
       "        /* Needs to be in here for Safari polyfill so background images work as expected. */\n",
       "        background-size: auto;\n",
       "    }\n",
       "    progress:not([value]), progress:not([value])::-webkit-progress-bar {\n",
       "        background: repeating-linear-gradient(45deg, #7e7e7e, #7e7e7e 10px, #5c5c5c 10px, #5c5c5c 20px);\n",
       "    }\n",
       "    .progress-bar-interrupted, .progress-bar-interrupted::-webkit-progress-bar {\n",
       "        background: #F44336;\n",
       "    }\n",
       "</style>\n"
      ],
      "text/plain": [
       "<IPython.core.display.HTML object>"
      ]
     },
     "metadata": {},
     "output_type": "display_data"
    },
    {
     "data": {
      "text/html": [
       "\n",
       "    <div>\n",
       "      <progress value='9128' class='' max='156391' style='width:300px; height:20px; vertical-align: middle;'></progress>\n",
       "      5.84% [9128/156391 01:37&lt;26:17]\n",
       "    </div>\n",
       "    "
      ],
      "text/plain": [
       "<IPython.core.display.HTML object>"
      ]
     },
     "metadata": {},
     "output_type": "display_data"
    },
    {
     "ename": "KeyboardInterrupt",
     "evalue": "",
     "output_type": "error",
     "traceback": [
      "\u001b[1;31m---------------------------------------------------------------------------\u001b[0m",
      "\u001b[1;31mKeyboardInterrupt\u001b[0m                         Traceback (most recent call last)",
      "Input \u001b[1;32mIn [65]\u001b[0m, in \u001b[0;36m<cell line: 1>\u001b[1;34m()\u001b[0m\n\u001b[1;32m----> 1\u001b[0m labeled_cloud \u001b[38;5;241m=\u001b[39m \u001b[43mgenerate_offset_cloud\u001b[49m\u001b[43m(\u001b[49m\u001b[43m \u001b[49m\u001b[43mcloud\u001b[49m\u001b[43m,\u001b[49m\u001b[43m \u001b[49m\u001b[43mcylinders\u001b[49m\u001b[43m \u001b[49m\u001b[43m)\u001b[49m\n\u001b[0;32m      2\u001b[0m \u001b[38;5;28mprint\u001b[39m(labeled_cloud[:\u001b[38;5;241m10\u001b[39m,:])\n",
      "Input \u001b[1;32mIn [64]\u001b[0m, in \u001b[0;36mgenerate_offset_cloud\u001b[1;34m(cloud, cylinders, masterBar)\u001b[0m\n\u001b[0;32m      6\u001b[0m output_data \u001b[38;5;241m=\u001b[39m np\u001b[38;5;241m.\u001b[39mzeros((\u001b[38;5;28mlen\u001b[39m(cloud), \u001b[38;5;241m7\u001b[39m)) \u001b[38;5;66;03m# point coordinates, offset vector, cylinder ID\u001b[39;00m\n\u001b[0;32m      8\u001b[0m \u001b[38;5;28;01mfor\u001b[39;00m i, point \u001b[38;5;129;01min\u001b[39;00m progress_bar(\u001b[38;5;28menumerate\u001b[39m(cloud), total\u001b[38;5;241m=\u001b[39m\u001b[38;5;28mlen\u001b[39m(cloud), master\u001b[38;5;241m=\u001b[39mmasterBar):\n\u001b[0;32m      9\u001b[0m \u001b[38;5;66;03m# for i, point in enumerate(cloud):\u001b[39;00m\n\u001b[1;32m---> 10\u001b[0m     index, distance, offset_vector \u001b[38;5;241m=\u001b[39m \u001b[43mclosest_cylinder_vectorized\u001b[49m\u001b[43m(\u001b[49m\u001b[43m \u001b[49m\u001b[43mpoint\u001b[49m\u001b[43m,\u001b[49m\u001b[43m \u001b[49m\u001b[43mcylinders\u001b[49m\u001b[43m \u001b[49m\u001b[43m)\u001b[49m\n\u001b[0;32m     12\u001b[0m     output_data[i] \u001b[38;5;241m=\u001b[39m np\u001b[38;5;241m.\u001b[39mconcatenate( (point, offset_vector, [index]) )\n\u001b[0;32m     14\u001b[0m \u001b[38;5;28;01mreturn\u001b[39;00m output_data\n",
      "Input \u001b[1;32mIn [61]\u001b[0m, in \u001b[0;36mclosest_cylinder_vectorized\u001b[1;34m(point, cylinders)\u001b[0m\n\u001b[0;32m     60\u001b[0m \u001b[38;5;28;01mdef\u001b[39;00m \u001b[38;5;21mclosest_cylinder_vectorized\u001b[39m(point, cylinders):\n\u001b[0;32m     61\u001b[0m     \u001b[38;5;66;03m# Extract numpy arrays from the DataFrame\u001b[39;00m\n\u001b[1;32m---> 62\u001b[0m     start \u001b[38;5;241m=\u001b[39m \u001b[43mcylinders\u001b[49m\u001b[43m[\u001b[49m\u001b[43m[\u001b[49m\u001b[38;5;124;43m'\u001b[39;49m\u001b[38;5;124;43mstartX\u001b[39;49m\u001b[38;5;124;43m'\u001b[39;49m\u001b[43m,\u001b[49m\u001b[43m \u001b[49m\u001b[38;5;124;43m'\u001b[39;49m\u001b[38;5;124;43mstartY\u001b[39;49m\u001b[38;5;124;43m'\u001b[39;49m\u001b[43m,\u001b[49m\u001b[43m \u001b[49m\u001b[38;5;124;43m'\u001b[39;49m\u001b[38;5;124;43mstartZ\u001b[39;49m\u001b[38;5;124;43m'\u001b[39;49m\u001b[43m]\u001b[49m\u001b[43m]\u001b[49m\u001b[38;5;241m.\u001b[39mto_numpy()\n\u001b[0;32m     63\u001b[0m     end \u001b[38;5;241m=\u001b[39m cylinders[[\u001b[38;5;124m'\u001b[39m\u001b[38;5;124mendX\u001b[39m\u001b[38;5;124m'\u001b[39m, \u001b[38;5;124m'\u001b[39m\u001b[38;5;124mendY\u001b[39m\u001b[38;5;124m'\u001b[39m, \u001b[38;5;124m'\u001b[39m\u001b[38;5;124mendZ\u001b[39m\u001b[38;5;124m'\u001b[39m]]\u001b[38;5;241m.\u001b[39mto_numpy()\n\u001b[0;32m     64\u001b[0m     radius \u001b[38;5;241m=\u001b[39m cylinders[\u001b[38;5;124m'\u001b[39m\u001b[38;5;124mradius\u001b[39m\u001b[38;5;124m'\u001b[39m]\u001b[38;5;241m.\u001b[39mto_numpy()\n",
      "File \u001b[1;32mc:\\Users\\rob-c\\AppData\\Local\\Programs\\Python\\Python310\\lib\\site-packages\\pandas\\core\\frame.py:3511\u001b[0m, in \u001b[0;36mDataFrame.__getitem__\u001b[1;34m(self, key)\u001b[0m\n\u001b[0;32m   3509\u001b[0m     \u001b[38;5;28;01mif\u001b[39;00m is_iterator(key):\n\u001b[0;32m   3510\u001b[0m         key \u001b[38;5;241m=\u001b[39m \u001b[38;5;28mlist\u001b[39m(key)\n\u001b[1;32m-> 3511\u001b[0m     indexer \u001b[38;5;241m=\u001b[39m \u001b[38;5;28;43mself\u001b[39;49m\u001b[38;5;241;43m.\u001b[39;49m\u001b[43mcolumns\u001b[49m\u001b[38;5;241;43m.\u001b[39;49m\u001b[43m_get_indexer_strict\u001b[49m\u001b[43m(\u001b[49m\u001b[43mkey\u001b[49m\u001b[43m,\u001b[49m\u001b[43m \u001b[49m\u001b[38;5;124;43m\"\u001b[39;49m\u001b[38;5;124;43mcolumns\u001b[39;49m\u001b[38;5;124;43m\"\u001b[39;49m\u001b[43m)\u001b[49m[\u001b[38;5;241m1\u001b[39m]\n\u001b[0;32m   3513\u001b[0m \u001b[38;5;66;03m# take() does not accept boolean indexers\u001b[39;00m\n\u001b[0;32m   3514\u001b[0m \u001b[38;5;28;01mif\u001b[39;00m \u001b[38;5;28mgetattr\u001b[39m(indexer, \u001b[38;5;124m\"\u001b[39m\u001b[38;5;124mdtype\u001b[39m\u001b[38;5;124m\"\u001b[39m, \u001b[38;5;28;01mNone\u001b[39;00m) \u001b[38;5;241m==\u001b[39m \u001b[38;5;28mbool\u001b[39m:\n",
      "File \u001b[1;32mc:\\Users\\rob-c\\AppData\\Local\\Programs\\Python\\Python310\\lib\\site-packages\\pandas\\core\\indexes\\base.py:5777\u001b[0m, in \u001b[0;36mIndex._get_indexer_strict\u001b[1;34m(self, key, axis_name)\u001b[0m\n\u001b[0;32m   5774\u001b[0m     keyarr \u001b[38;5;241m=\u001b[39m com\u001b[38;5;241m.\u001b[39masarray_tuplesafe(keyarr)\n\u001b[0;32m   5776\u001b[0m \u001b[38;5;28;01mif\u001b[39;00m \u001b[38;5;28mself\u001b[39m\u001b[38;5;241m.\u001b[39m_index_as_unique:\n\u001b[1;32m-> 5777\u001b[0m     indexer \u001b[38;5;241m=\u001b[39m \u001b[38;5;28;43mself\u001b[39;49m\u001b[38;5;241;43m.\u001b[39;49m\u001b[43mget_indexer_for\u001b[49m\u001b[43m(\u001b[49m\u001b[43mkeyarr\u001b[49m\u001b[43m)\u001b[49m\n\u001b[0;32m   5778\u001b[0m     keyarr \u001b[38;5;241m=\u001b[39m \u001b[38;5;28mself\u001b[39m\u001b[38;5;241m.\u001b[39mreindex(keyarr)[\u001b[38;5;241m0\u001b[39m]\n\u001b[0;32m   5779\u001b[0m \u001b[38;5;28;01melse\u001b[39;00m:\n",
      "File \u001b[1;32mc:\\Users\\rob-c\\AppData\\Local\\Programs\\Python\\Python310\\lib\\site-packages\\pandas\\core\\indexes\\base.py:5764\u001b[0m, in \u001b[0;36mIndex.get_indexer_for\u001b[1;34m(self, target)\u001b[0m\n\u001b[0;32m   5746\u001b[0m \u001b[38;5;124;03m\"\"\"\u001b[39;00m\n\u001b[0;32m   5747\u001b[0m \u001b[38;5;124;03mGuaranteed return of an indexer even when non-unique.\u001b[39;00m\n\u001b[0;32m   5748\u001b[0m \n\u001b[1;32m   (...)\u001b[0m\n\u001b[0;32m   5761\u001b[0m \u001b[38;5;124;03marray([0, 2])\u001b[39;00m\n\u001b[0;32m   5762\u001b[0m \u001b[38;5;124;03m\"\"\"\u001b[39;00m\n\u001b[0;32m   5763\u001b[0m \u001b[38;5;28;01mif\u001b[39;00m \u001b[38;5;28mself\u001b[39m\u001b[38;5;241m.\u001b[39m_index_as_unique:\n\u001b[1;32m-> 5764\u001b[0m     \u001b[38;5;28;01mreturn\u001b[39;00m \u001b[38;5;28;43mself\u001b[39;49m\u001b[38;5;241;43m.\u001b[39;49m\u001b[43mget_indexer\u001b[49m\u001b[43m(\u001b[49m\u001b[43mtarget\u001b[49m\u001b[43m)\u001b[49m\n\u001b[0;32m   5765\u001b[0m indexer, _ \u001b[38;5;241m=\u001b[39m \u001b[38;5;28mself\u001b[39m\u001b[38;5;241m.\u001b[39mget_indexer_non_unique(target)\n\u001b[0;32m   5766\u001b[0m \u001b[38;5;28;01mreturn\u001b[39;00m indexer\n",
      "File \u001b[1;32mc:\\Users\\rob-c\\AppData\\Local\\Programs\\Python\\Python310\\lib\\site-packages\\pandas\\core\\indexes\\base.py:3718\u001b[0m, in \u001b[0;36mIndex.get_indexer\u001b[1;34m(self, target, method, limit, tolerance)\u001b[0m\n\u001b[0;32m   3715\u001b[0m method \u001b[38;5;241m=\u001b[39m missing\u001b[38;5;241m.\u001b[39mclean_reindex_fill_method(method)\n\u001b[0;32m   3716\u001b[0m target \u001b[38;5;241m=\u001b[39m \u001b[38;5;28mself\u001b[39m\u001b[38;5;241m.\u001b[39m_maybe_cast_listlike_indexer(target)\n\u001b[1;32m-> 3718\u001b[0m \u001b[38;5;28;43mself\u001b[39;49m\u001b[38;5;241;43m.\u001b[39;49m\u001b[43m_check_indexing_method\u001b[49m\u001b[43m(\u001b[49m\u001b[43mmethod\u001b[49m\u001b[43m,\u001b[49m\u001b[43m \u001b[49m\u001b[43mlimit\u001b[49m\u001b[43m,\u001b[49m\u001b[43m \u001b[49m\u001b[43mtolerance\u001b[49m\u001b[43m)\u001b[49m\n\u001b[0;32m   3720\u001b[0m \u001b[38;5;28;01mif\u001b[39;00m \u001b[38;5;129;01mnot\u001b[39;00m \u001b[38;5;28mself\u001b[39m\u001b[38;5;241m.\u001b[39m_index_as_unique:\n\u001b[0;32m   3721\u001b[0m     \u001b[38;5;28;01mraise\u001b[39;00m InvalidIndexError(\u001b[38;5;28mself\u001b[39m\u001b[38;5;241m.\u001b[39m_requires_unique_msg)\n",
      "File \u001b[1;32mc:\\Users\\rob-c\\AppData\\Local\\Programs\\Python\\Python310\\lib\\site-packages\\pandas\\core\\indexes\\base.py:3823\u001b[0m, in \u001b[0;36mIndex._check_indexing_method\u001b[1;34m(self, method, limit, tolerance)\u001b[0m\n\u001b[0;32m   3820\u001b[0m         \u001b[38;5;28;01mreturn\u001b[39;00m \u001b[38;5;28mself\u001b[39m\u001b[38;5;241m.\u001b[39mleft\u001b[38;5;241m.\u001b[39m_should_compare(target)  \u001b[38;5;66;03m# type: ignore[attr-defined]\u001b[39;00m\n\u001b[0;32m   3821\u001b[0m     \u001b[38;5;28;01mreturn\u001b[39;00m \u001b[38;5;28;01mFalse\u001b[39;00m\n\u001b[1;32m-> 3823\u001b[0m \u001b[38;5;129m@final\u001b[39m\n\u001b[0;32m   3824\u001b[0m \u001b[38;5;28;01mdef\u001b[39;00m \u001b[38;5;21m_check_indexing_method\u001b[39m(\n\u001b[0;32m   3825\u001b[0m     \u001b[38;5;28mself\u001b[39m,\n\u001b[0;32m   3826\u001b[0m     method: str_t \u001b[38;5;241m|\u001b[39m \u001b[38;5;28;01mNone\u001b[39;00m,\n\u001b[0;32m   3827\u001b[0m     limit: \u001b[38;5;28mint\u001b[39m \u001b[38;5;241m|\u001b[39m \u001b[38;5;28;01mNone\u001b[39;00m \u001b[38;5;241m=\u001b[39m \u001b[38;5;28;01mNone\u001b[39;00m,\n\u001b[0;32m   3828\u001b[0m     tolerance\u001b[38;5;241m=\u001b[39m\u001b[38;5;28;01mNone\u001b[39;00m,\n\u001b[0;32m   3829\u001b[0m ) \u001b[38;5;241m-\u001b[39m\u001b[38;5;241m>\u001b[39m \u001b[38;5;28;01mNone\u001b[39;00m:\n\u001b[0;32m   3830\u001b[0m     \u001b[38;5;124;03m\"\"\"\u001b[39;00m\n\u001b[0;32m   3831\u001b[0m \u001b[38;5;124;03m    Raise if we have a get_indexer `method` that is not supported or valid.\u001b[39;00m\n\u001b[0;32m   3832\u001b[0m \u001b[38;5;124;03m    \"\"\"\u001b[39;00m\n\u001b[0;32m   3833\u001b[0m     \u001b[38;5;28;01mif\u001b[39;00m method \u001b[38;5;129;01mnot\u001b[39;00m \u001b[38;5;129;01min\u001b[39;00m [\u001b[38;5;28;01mNone\u001b[39;00m, \u001b[38;5;124m\"\u001b[39m\u001b[38;5;124mbfill\u001b[39m\u001b[38;5;124m\"\u001b[39m, \u001b[38;5;124m\"\u001b[39m\u001b[38;5;124mbackfill\u001b[39m\u001b[38;5;124m\"\u001b[39m, \u001b[38;5;124m\"\u001b[39m\u001b[38;5;124mpad\u001b[39m\u001b[38;5;124m\"\u001b[39m, \u001b[38;5;124m\"\u001b[39m\u001b[38;5;124mffill\u001b[39m\u001b[38;5;124m\"\u001b[39m, \u001b[38;5;124m\"\u001b[39m\u001b[38;5;124mnearest\u001b[39m\u001b[38;5;124m\"\u001b[39m]:\n\u001b[0;32m   3834\u001b[0m         \u001b[38;5;66;03m# in practice the clean_reindex_fill_method call would raise\u001b[39;00m\n\u001b[0;32m   3835\u001b[0m         \u001b[38;5;66;03m#  before we get here\u001b[39;00m\n",
      "\u001b[1;31mKeyboardInterrupt\u001b[0m: "
     ]
    }
   ],
   "source": [
    "labeled_cloud = generate_offset_cloud( cloud, cylinders )\n",
    "print(labeled_cloud[:10,:])"
   ]
  },
  {
   "cell_type": "code",
   "execution_count": null,
   "metadata": {},
   "outputs": [
    {
     "data": {
      "text/plain": [
       "(1111, 0.7411319073719704, array([0.676347, 0.217995, 0.321168]))"
      ]
     },
     "execution_count": 60,
     "metadata": {},
     "output_type": "execute_result"
    }
   ],
   "source": []
  },
  {
   "cell_type": "code",
   "execution_count": null,
   "metadata": {},
   "outputs": [],
   "source": []
  }
 ],
 "metadata": {
  "kernelspec": {
   "display_name": "Python 3",
   "language": "python",
   "name": "python3"
  },
  "language_info": {
   "codemirror_mode": {
    "name": "ipython",
    "version": 3
   },
   "file_extension": ".py",
   "mimetype": "text/x-python",
   "name": "python",
   "nbconvert_exporter": "python",
   "pygments_lexer": "ipython3",
   "version": "3.10.4"
  }
 },
 "nbformat": 4,
 "nbformat_minor": 2
}
