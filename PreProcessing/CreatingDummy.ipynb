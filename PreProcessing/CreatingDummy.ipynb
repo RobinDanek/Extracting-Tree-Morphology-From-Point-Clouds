{
 "cells": [
  {
   "cell_type": "code",
   "execution_count": 22,
   "metadata": {},
   "outputs": [],
   "source": [
    "import numpy as np\n",
    "import os\n",
    "cwd = os.getcwd()"
   ]
  },
  {
   "cell_type": "markdown",
   "metadata": {},
   "source": [
    "### Create random point cloud of 3000 samples"
   ]
  },
  {
   "cell_type": "code",
   "execution_count": 25,
   "metadata": {},
   "outputs": [],
   "source": [
    "np.random.seed(42)\n",
    "\n",
    "angles = np.random.uniform(0,2*np.pi, size=3000)\n",
    "heights = np.random.uniform(0,1,size=3000)\n",
    "noises = 0.1 * (1-np.random.power(6, size=3000))\n",
    "radii = 0.1 + noises\n",
    "\n",
    "x = radii * np.cos(angles)\n",
    "y = radii * np.sin(angles)\n",
    "\n",
    "off_x = -noises * np.cos(angles)\n",
    "off_y = -noises * np.sin(angles)\n",
    "\n",
    "feats = np.ones(3000)\n",
    "\n",
    "dummy = np.column_stack((x, y, heights, off_x, off_y, np.zeros(3000), np.ones(3000, dtype=int), feats))\n",
    "\n",
    "np.save( os.path.join(os.path.dirname(cwd), 'data', 'testing', 'test.npy'), dummy )"
   ]
  },
  {
   "cell_type": "code",
   "execution_count": null,
   "metadata": {},
   "outputs": [],
   "source": []
  }
 ],
 "metadata": {
  "kernelspec": {
   "display_name": "TreeLearn_exp",
   "language": "python",
   "name": "python3"
  },
  "language_info": {
   "codemirror_mode": {
    "name": "ipython",
    "version": 3
   },
   "file_extension": ".py",
   "mimetype": "text/x-python",
   "name": "python",
   "nbconvert_exporter": "python",
   "pygments_lexer": "ipython3",
   "version": "3.9.21"
  }
 },
 "nbformat": 4,
 "nbformat_minor": 2
}
