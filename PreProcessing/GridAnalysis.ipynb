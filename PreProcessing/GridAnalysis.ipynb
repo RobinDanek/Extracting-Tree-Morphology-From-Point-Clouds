{
 "cells": [
  {
   "cell_type": "markdown",
   "metadata": {},
   "source": [
    "This notebook is used for initial data analysis"
   ]
  },
  {
   "cell_type": "code",
   "execution_count": 1,
   "metadata": {},
   "outputs": [],
   "source": [
    "import os\n",
    "import sys\n",
    "import pandas as pd\n",
    "import numpy as np\n",
    "import matplotlib.pyplot as plt\n",
    "import seaborn as sns\n",
    "from fastprogress import master_bar, progress_bar\n",
    "\n",
    "# Get access to all the files in the repository\n",
    "cwd = os.getcwd()\n",
    "parentDir = os.path.dirname( cwd )\n",
    "sys.path.append(parentDir)\n"
   ]
  },
  {
   "cell_type": "markdown",
   "metadata": {},
   "source": [
    "First convert all the .txt files into .npy files for faster access and smaller footprint"
   ]
  },
  {
   "cell_type": "code",
   "execution_count": null,
   "metadata": {},
   "outputs": [],
   "source": [
    "pointCloudDir = os.path.join( parentDir, \"data\", \"raw\", \"cloud\" )\n",
    "\n",
    "# Create a list of paths to all the .txt files of pointclouds\n",
    "txt_files = [os.path.join( pointCloudDir, file ) for file in os.listdir( pointCloudDir ) if file.endswith(\".txt\") ]\n",
    "\n",
    "for txt_file in txt_files:\n",
    "    # Load the cloud and convert it to .npy\n",
    "    cloud = np.loadtxt(txt_file)\n",
    "    npy_file = txt_file.replace(\".txt\", \".npy\") # New path in same directory\n",
    "    np.save(npy_file, cloud)\n",
    "\n",
    "print(\"Finished conversion\")"
   ]
  },
  {
   "cell_type": "markdown",
   "metadata": {},
   "source": [
    "Define a function that voxelizes a pointcloud and returns the grid as well as the fraction of occupied voxels. Note that this is not the final way of voxelizing but simply a method for analyzing occupancy"
   ]
  },
  {
   "cell_type": "code",
   "execution_count": 2,
   "metadata": {},
   "outputs": [],
   "source": [
    "def create_voxel_grid( cloud, voxel_size ):\n",
    "    \"\"\"\n",
    "        This function creates a voxel grid of a pointcloud and returns the fraction of voxels being occupied.\n",
    "        args:\n",
    "            cloud:      a point cloud in a [Nx3] array of coordinates [meters]\n",
    "            voxel_size: the size of the voxels [meters]\n",
    "        returns:\n",
    "            voxel_grid: a boolean grid of voxels which indicates which voxels are occupied\n",
    "            occupation: a float representing the fraction of occupied voxels\n",
    "    \"\"\"\n",
    "    # First create an array of voxel indices, where each voxel indice is a 3d array containing its bottom left corner, meaning something like [-1,2,5].\n",
    "    # These are not coordinates in the original data but are multitudes of voxel_size in the original coordinate system\n",
    "    voxel_indices = np.floor( cloud / voxel_size ).astype(np.int32)\n",
    "    # Shift the grid to never include indices smaller than 0\n",
    "    min_indices = np.min(voxel_indices, axis=0)\n",
    "    voxel_indices -= min_indices\n",
    "    # Now get the maximum size in each dimension\n",
    "    grid_shape = np.max( voxel_indices, axis=0 ) + 1 # Include voxel at maximum index\n",
    "    voxel_grid = np.zeros( grid_shape, dtype=bool )\n",
    "\n",
    "    # Now set the grid to true where voxels are occupied\n",
    "    for idx in voxel_indices:\n",
    "        voxel_grid[tuple(idx)] = True\n",
    "\n",
    "    # Now get the fraction of occupied voxels\n",
    "    num_occupied_voxels = np.sum( voxel_grid )\n",
    "    total_voxels = voxel_grid.size\n",
    "\n",
    "    occupation = num_occupied_voxels / total_voxels\n",
    "\n",
    "    return voxel_grid, occupation\n",
    "    \n"
   ]
  },
  {
   "cell_type": "code",
   "execution_count": null,
   "metadata": {},
   "outputs": [],
   "source": [
    "exampleCloud = os.path.join(pointCloudDir, \"33_3.npy\")\n",
    "\n",
    "cloud = np.load(exampleCloud)\n",
    "\n",
    "grid, occ = create_voxel_grid( cloud, 10 )\n",
    "\n",
    "print(grid)\n",
    "print(occ)"
   ]
  },
  {
   "cell_type": "markdown",
   "metadata": {},
   "source": [
    "Define and run a function that creates a scatter plot where the fraction of occupied voxels is plotted against the number of points of a cloud"
   ]
  },
  {
   "cell_type": "code",
   "execution_count": null,
   "metadata": {},
   "outputs": [],
   "source": [
    "def plot_grid_occupation( cloudDir, voxelSize, plotSavePath=None, multiProcess=True ):\n",
    "    \n",
    "    cloudFiles = [os.path.join( cloudDir, file ) for file in os.listdir( pointCloudDir ) if file.endswith(\".npy\") ]\n",
    "    \n",
    "    print(\"Voxelizing Clouds...\")\n",
    "    cloudSizes = []\n",
    "    cloudOccupations = []\n",
    "\n",
    "    # mb = master_bar([\"Voxelizing Clouds\"])\n",
    "\n",
    "    for file in progress_bar(cloudFiles):\n",
    "        cloud = np.load(file)\n",
    "\n",
    "        cloudSizes.append( len(cloud) )\n",
    "\n",
    "        _, occupation = create_voxel_grid( cloud=cloud, voxel_size=voxelSize )\n",
    "        cloudOccupations.append( occupation )\n",
    "\n",
    "    print(\"plotting\")\n",
    "    plt.figure()\n",
    "    plt.scatter(cloudSizes, cloudOccupations, marker=\"x\", color=\"red\", alpha=0.8)\n",
    "    plt.xlabel(\"# of points\")\n",
    "    plt.ylabel(\"Fraction occupied voxels\")\n",
    "    plt.title(f\"Fraction of occupied voxels for voxel size {voxelSize}m\")\n",
    "    plt.grid()\n",
    "    if plotSavePath:\n",
    "        voxelSizeCM = int(voxelSize*100)\n",
    "        plt.savefig(os.path.join(plotSavePath, f\"Occupation_raw_{voxelSizeCM}cm.png\"), dpi=300)\n",
    "    plt.show()      \n",
    "\n",
    "def plot_grid_occupation(cloudDir, voxelSizes, plotSavePath=None):\n",
    "    cloudFiles = [os.path.join(cloudDir, file) for file in os.listdir(cloudDir) if file.endswith(\".npy\")]\n",
    "    \n",
    "    print(\"Voxelizing Clouds...\")\n",
    "    \n",
    "    # Check if voxelSizes is a single value or a list of sizes\n",
    "    if isinstance(voxelSizes, list) and len(voxelSizes) == 4:\n",
    "        # Handle the 2x2 subplot case\n",
    "        fig, axes = plt.subplots(2, 2, figsize=(12, 12), sharey=False)\n",
    "        axes = axes.flatten()  # Flatten axes for easy iteration\n",
    "        \n",
    "        for i, voxelSize in enumerate(voxelSizes):\n",
    "            print(f\"Voxelization with size {voxelSize}m\")\n",
    "            cloudSizes = []\n",
    "            cloudOccupations = []\n",
    "\n",
    "            for file in progress_bar(cloudFiles):\n",
    "                cloud = np.load(file)\n",
    "\n",
    "                cloudSizes.append(len(cloud))\n",
    "                _, occupation = create_voxel_grid(cloud=cloud, voxel_size=voxelSize)\n",
    "                cloudOccupations.append(occupation)\n",
    "\n",
    "            # Plot the results in the corresponding subplot\n",
    "            ax = axes[i]\n",
    "            ax.scatter(cloudSizes, cloudOccupations, marker=\"x\", color=\"red\", alpha=0.8)\n",
    "            ax.set_title(f\"Voxel Size: {voxelSize}m\")\n",
    "            ax.set_xlabel(\"# of points\")\n",
    "            ax.set_ylabel(\"Fraction occupied voxels\")\n",
    "            ax.grid()\n",
    "\n",
    "        # Set a global title for the figure\n",
    "        fig.suptitle(\"Voxel Occupancy for Different Voxel Sizes\", fontsize=16)\n",
    "\n",
    "        # Adjust layout for better spacing\n",
    "        plt.tight_layout(rect=[0, 0, 1, 0.96])  # Leave space for the title\n",
    "\n",
    "    else:\n",
    "        # Handle the single voxel size case (previous behavior)\n",
    "        cloudSizes = []\n",
    "        cloudOccupations = []\n",
    "\n",
    "        for file in progress_bar(cloudFiles):\n",
    "            cloud = np.load(file)\n",
    "\n",
    "            cloudSizes.append(len(cloud))\n",
    "            _, occupation = create_voxel_grid(cloud=cloud, voxel_size=voxelSizes)\n",
    "            cloudOccupations.append(occupation)\n",
    "\n",
    "        # Plot the results for the single voxel size\n",
    "        plt.figure(figsize=(8, 6))\n",
    "        plt.scatter(cloudSizes, cloudOccupations, marker=\"x\", color=\"red\", alpha=0.8)\n",
    "        plt.xlabel(\"# of points\")\n",
    "        plt.ylabel(\"Fraction occupied voxels\")\n",
    "        plt.title(f\"Fraction of occupied voxels for voxel size {voxelSizes}m\")\n",
    "        plt.grid()\n",
    "\n",
    "    # Save the plot if a path is provided\n",
    "    if plotSavePath:\n",
    "        if isinstance(voxelSizes, list):\n",
    "            voxelSizesCM = [int(vs * 100) for vs in voxelSizes]\n",
    "            plt.savefig(os.path.join(plotSavePath, f\"Occupation_raw_{voxelSizesCM[0]}cm_{voxelSizesCM[1]}cm_{voxelSizesCM[2]}cm_{voxelSizesCM[3]}cm.png\"), dpi=300)\n",
    "        else:\n",
    "            voxelSizeCM = int(voxelSizes * 100)\n",
    "            plt.savefig(os.path.join(plotSavePath, f\"Occupation_raw_{voxelSizeCM}cm.png\"), dpi=300)\n",
    "\n",
    "    # Show the plot\n",
    "    plt.show()\n"
   ]
  },
  {
   "cell_type": "code",
   "execution_count": 18,
   "metadata": {},
   "outputs": [
    {
     "name": "stdout",
     "output_type": "stream",
     "text": [
      "Voxelizing Clouds...\n",
      "Voxelization with size 0.1m\n"
     ]
    },
    {
     "data": {
      "text/html": [
       "\n",
       "<style>\n",
       "    /* Turns off some styling */\n",
       "    progress {\n",
       "        /* gets rid of default border in Firefox and Opera. */\n",
       "        border: none;\n",
       "        /* Needs to be in here for Safari polyfill so background images work as expected. */\n",
       "        background-size: auto;\n",
       "    }\n",
       "    progress:not([value]), progress:not([value])::-webkit-progress-bar {\n",
       "        background: repeating-linear-gradient(45deg, #7e7e7e, #7e7e7e 10px, #5c5c5c 10px, #5c5c5c 20px);\n",
       "    }\n",
       "    .progress-bar-interrupted, .progress-bar-interrupted::-webkit-progress-bar {\n",
       "        background: #F44336;\n",
       "    }\n",
       "</style>\n"
      ],
      "text/plain": [
       "<IPython.core.display.HTML object>"
      ]
     },
     "metadata": {},
     "output_type": "display_data"
    },
    {
     "data": {
      "text/html": [
       "\n",
       "    <div>\n",
       "      <progress value='153' class='' max='153' style='width:300px; height:20px; vertical-align: middle;'></progress>\n",
       "      100.00% [153/153 01:20&lt;00:00]\n",
       "    </div>\n",
       "    "
      ],
      "text/plain": [
       "<IPython.core.display.HTML object>"
      ]
     },
     "metadata": {},
     "output_type": "display_data"
    },
    {
     "name": "stdout",
     "output_type": "stream",
     "text": [
      "Voxelization with size 0.05m\n"
     ]
    },
    {
     "data": {
      "text/html": [
       "\n",
       "<style>\n",
       "    /* Turns off some styling */\n",
       "    progress {\n",
       "        /* gets rid of default border in Firefox and Opera. */\n",
       "        border: none;\n",
       "        /* Needs to be in here for Safari polyfill so background images work as expected. */\n",
       "        background-size: auto;\n",
       "    }\n",
       "    progress:not([value]), progress:not([value])::-webkit-progress-bar {\n",
       "        background: repeating-linear-gradient(45deg, #7e7e7e, #7e7e7e 10px, #5c5c5c 10px, #5c5c5c 20px);\n",
       "    }\n",
       "    .progress-bar-interrupted, .progress-bar-interrupted::-webkit-progress-bar {\n",
       "        background: #F44336;\n",
       "    }\n",
       "</style>\n"
      ],
      "text/plain": [
       "<IPython.core.display.HTML object>"
      ]
     },
     "metadata": {},
     "output_type": "display_data"
    },
    {
     "data": {
      "text/html": [
       "\n",
       "    <div>\n",
       "      <progress value='153' class='' max='153' style='width:300px; height:20px; vertical-align: middle;'></progress>\n",
       "      100.00% [153/153 01:16&lt;00:00]\n",
       "    </div>\n",
       "    "
      ],
      "text/plain": [
       "<IPython.core.display.HTML object>"
      ]
     },
     "metadata": {},
     "output_type": "display_data"
    },
    {
     "name": "stdout",
     "output_type": "stream",
     "text": [
      "Voxelization with size 0.02m\n"
     ]
    },
    {
     "data": {
      "text/html": [
       "\n",
       "<style>\n",
       "    /* Turns off some styling */\n",
       "    progress {\n",
       "        /* gets rid of default border in Firefox and Opera. */\n",
       "        border: none;\n",
       "        /* Needs to be in here for Safari polyfill so background images work as expected. */\n",
       "        background-size: auto;\n",
       "    }\n",
       "    progress:not([value]), progress:not([value])::-webkit-progress-bar {\n",
       "        background: repeating-linear-gradient(45deg, #7e7e7e, #7e7e7e 10px, #5c5c5c 10px, #5c5c5c 20px);\n",
       "    }\n",
       "    .progress-bar-interrupted, .progress-bar-interrupted::-webkit-progress-bar {\n",
       "        background: #F44336;\n",
       "    }\n",
       "</style>\n"
      ],
      "text/plain": [
       "<IPython.core.display.HTML object>"
      ]
     },
     "metadata": {},
     "output_type": "display_data"
    },
    {
     "data": {
      "text/html": [
       "\n",
       "    <div>\n",
       "      <progress value='153' class='' max='153' style='width:300px; height:20px; vertical-align: middle;'></progress>\n",
       "      100.00% [153/153 02:57&lt;00:00]\n",
       "    </div>\n",
       "    "
      ],
      "text/plain": [
       "<IPython.core.display.HTML object>"
      ]
     },
     "metadata": {},
     "output_type": "display_data"
    },
    {
     "name": "stdout",
     "output_type": "stream",
     "text": [
      "Voxelization with size 0.01m\n"
     ]
    },
    {
     "data": {
      "text/html": [
       "\n",
       "<style>\n",
       "    /* Turns off some styling */\n",
       "    progress {\n",
       "        /* gets rid of default border in Firefox and Opera. */\n",
       "        border: none;\n",
       "        /* Needs to be in here for Safari polyfill so background images work as expected. */\n",
       "        background-size: auto;\n",
       "    }\n",
       "    progress:not([value]), progress:not([value])::-webkit-progress-bar {\n",
       "        background: repeating-linear-gradient(45deg, #7e7e7e, #7e7e7e 10px, #5c5c5c 10px, #5c5c5c 20px);\n",
       "    }\n",
       "    .progress-bar-interrupted, .progress-bar-interrupted::-webkit-progress-bar {\n",
       "        background: #F44336;\n",
       "    }\n",
       "</style>\n"
      ],
      "text/plain": [
       "<IPython.core.display.HTML object>"
      ]
     },
     "metadata": {},
     "output_type": "display_data"
    },
    {
     "data": {
      "text/html": [
       "\n",
       "    <div>\n",
       "      <progress value='153' class='' max='153' style='width:300px; height:20px; vertical-align: middle;'></progress>\n",
       "      100.00% [153/153 16:52&lt;00:00]\n",
       "    </div>\n",
       "    "
      ],
      "text/plain": [
       "<IPython.core.display.HTML object>"
      ]
     },
     "metadata": {},
     "output_type": "display_data"
    },
    {
     "data": {
      "image/png": "[encoded data removed]",
      "text/plain": [
       "<Figure size 864x864 with 4 Axes>"
      ]
     },
     "metadata": {
      "needs_background": "light"
     },
     "output_type": "display_data"
    }
   ],
   "source": [
    "pointCloudDir = os.path.join( parentDir, \"data\", \"raw\", \"cloud\" )\n",
    "\n",
    "plotSavePath = os.path.join( parentDir, \"plots\", \"DataAnalysis\")\n",
    "\n",
    "plot_grid_occupation( cloudDir=pointCloudDir, voxelSizes=[0.1, 0.05, 0.02, 0.01], plotSavePath=plotSavePath )"
   ]
  },
  {
   "cell_type": "code",
   "execution_count": null,
   "metadata": {},
   "outputs": [],
   "source": []
  }
 ],
 "metadata": {
  "kernelspec": {
   "display_name": "Python 3",
   "language": "python",
   "name": "python3"
  },
  "language_info": {
   "codemirror_mode": {
    "name": "ipython",
    "version": 3
   },
   "file_extension": ".py",
   "mimetype": "text/x-python",
   "name": "python",
   "nbconvert_exporter": "python",
   "pygments_lexer": "ipython3",
   "version": "3.10.4"
  }
 },
 "nbformat": 4,
 "nbformat_minor": 2
}
