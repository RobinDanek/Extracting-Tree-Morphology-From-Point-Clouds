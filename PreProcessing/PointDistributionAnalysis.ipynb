{
 "cells": [
  {
   "cell_type": "code",
   "execution_count": 2,
   "metadata": {},
   "outputs": [],
   "source": [
    "import numpy as np\n",
    "import os\n",
    "import sys\n",
    "import matplotlib.pyplot as plt\n",
    "from fastprogress.fastprogress import progress_bar\n",
    "\n",
    "cwd = os.getcwd()\n",
    "parentDir = os.path.dirname( cwd )\n",
    "sys.path.append(parentDir)"
   ]
  },
  {
   "cell_type": "markdown",
   "metadata": {},
   "source": [
    "### Height distribution"
   ]
  },
  {
   "cell_type": "code",
   "execution_count": 3,
   "metadata": {},
   "outputs": [
    {
     "data": {
      "text/html": [
       "\n",
       "<style>\n",
       "    /* Turns off some styling */\n",
       "    progress {\n",
       "        /* gets rid of default border in Firefox and Opera. */\n",
       "        border: none;\n",
       "        /* Needs to be in here for Safari polyfill so background images work as expected. */\n",
       "        background-size: auto;\n",
       "    }\n",
       "    progress:not([value]), progress:not([value])::-webkit-progress-bar {\n",
       "        background: repeating-linear-gradient(45deg, #7e7e7e, #7e7e7e 10px, #5c5c5c 10px, #5c5c5c 20px);\n",
       "    }\n",
       "    .progress-bar-interrupted, .progress-bar-interrupted::-webkit-progress-bar {\n",
       "        background: #F44336;\n",
       "    }\n",
       "</style>\n"
      ],
      "text/plain": [
       "<IPython.core.display.HTML object>"
      ]
     },
     "metadata": {},
     "output_type": "display_data"
    },
    {
     "data": {
      "text/html": [
       "\n",
       "    <div>\n",
       "      <progress value='318' class='' max='318' style='width:300px; height:20px; vertical-align: middle;'></progress>\n",
       "      100.00% [318/318 00:03&lt;00:00]\n",
       "    </div>\n",
       "    "
      ],
      "text/plain": [
       "<IPython.core.display.HTML object>"
      ]
     },
     "metadata": {},
     "output_type": "display_data"
    },
    {
     "name": "stdout",
     "output_type": "stream",
     "text": [
      "[np.float64(0.037000180000000604), np.float64(0.03100014000000062), np.float64(0.02799988000000031), np.float64(0.07200003000000077), np.float64(0.06500006000000003), np.float64(0.07100010000000001), np.float64(0.11600018000000034), np.float64(0.12300014000000026), np.float64(0.05999994000000086), np.float64(0.06699991000000072), np.float64(0.07499981000000044), np.float64(0.13600016000000004), np.float64(0.1050000200000003), np.float64(0.13499975000000042), np.float64(0.10099983000000012), np.float64(0.02699995000000044), np.float64(0.020999910000000455), np.float64(0.026000020000000568), np.float64(0.021999840000000326), np.float64(0.021999840000000326), np.float64(0.033999920000000294), np.float64(0.033999920000000294), np.float64(0.03100014000000062), np.float64(0.04199982000000002), np.float64(0.038000110000000475), np.float64(0.0929999300000004), np.float64(0.0359997700000001), np.float64(0.11000013000000042), np.float64(0.048999790000000765), np.float64(0.08799982000000028), np.float64(0.09899998000000032), np.float64(0.05800009000000017), np.float64(0.12599993000000076), np.float64(0.029999730000000113), np.float64(0.06299972000000054), np.float64(0.0499997100000007), np.float64(0.12400007000000013), np.float64(0.06400013000000015), np.float64(0.07200003000000077), np.float64(0.13299990000000061), np.float64(0.037000180000000604), np.float64(0.07100010000000001), np.float64(0.04299974000000084), np.float64(0.0819997800000003), np.float64(0.06599998000000085), np.float64(0.08099985000000043), np.float64(0.06500006000000003), np.float64(0.08400011000000074), np.float64(0.07599974000000032), np.float64(0.06299972000000054), np.float64(0.07900000000000063), np.float64(0.06299972000000054), np.float64(0.03900003000000041), np.float64(0.07399988000000057), np.float64(0.04299974000000084), np.float64(0.07800007000000075), np.float64(0.0499997100000007), np.float64(0.08300018000000087), np.float64(0.052000050000000186), np.float64(0.06099987000000073)]\n"
     ]
    }
   ],
   "source": [
    "data_root = os.path.join( parentDir, 'data', 'labeled', 'cloud' )\n",
    "clouds = [os.path.join(data_root, path) for path in os.listdir(data_root) if path.endswith('.npy')]\n",
    "\n",
    "heights = []\n",
    "for cloudPath in progress_bar(clouds, master=None):\n",
    "    cloud = np.load( cloudPath )\n",
    "    cloud = cloud[:, :3]\n",
    "    cloud[:,2] = cloud[:,2] - np.min( cloud[:,2] )\n",
    "\n",
    "    heights.extend( cloud[:,2] )\n",
    "\n",
    "print(heights[:60])"
   ]
  },
  {
   "cell_type": "code",
   "execution_count": 4,
   "metadata": {},
   "outputs": [
    {
     "data": {
      "text/plain": [
       "(array([3.43440156e-02, 3.52653417e-02, 3.91861427e-02, 4.21816336e-02,\n",
       "        4.44063200e-02, 4.03953034e-02, 2.84672079e-02, 1.10591770e-02,\n",
       "        2.00372993e-03, 3.74751802e-05]),\n",
       " array([ 0.        ,  3.60560004,  7.21120008, 10.81680012, 14.42240016,\n",
       "        18.0280002 , 21.63360024, 25.23920028, 28.84480032, 32.45040036,\n",
       "        36.0560004 ]),\n",
       " <BarContainer object of 10 artists>)"
      ]
     },
     "execution_count": 4,
     "metadata": {},
     "output_type": "execute_result"
    },
    {
     "data": {
      "image/png": "[encoded data removed]",
      "text/plain": [
       "<Figure size 640x480 with 1 Axes>"
      ]
     },
     "metadata": {},
     "output_type": "display_data"
    }
   ],
   "source": [
    "plt.figure()\n",
    "\n",
    "plt.hist( heights, density=True )"
   ]
  },
  {
   "cell_type": "code",
   "execution_count": null,
   "metadata": {},
   "outputs": [],
   "source": []
  }
 ],
 "metadata": {
  "kernelspec": {
   "display_name": "TreeLearn_exp",
   "language": "python",
   "name": "python3"
  },
  "language_info": {
   "codemirror_mode": {
    "name": "ipython",
    "version": 3
   },
   "file_extension": ".py",
   "mimetype": "text/x-python",
   "name": "python",
   "nbconvert_exporter": "python",
   "pygments_lexer": "ipython3",
   "version": "3.9.21"
  }
 },
 "nbformat": 4,
 "nbformat_minor": 2
}
