{
 "cells": [
  {
   "cell_type": "code",
   "execution_count": 1,
   "metadata": {},
   "outputs": [
    {
     "name": "stdout",
     "output_type": "stream",
     "text": [
      "Jupyter environment detected. Enabling Open3D WebVisualizer.\n",
      "[Open3D INFO] WebRTC GUI backend enabled.\n",
      "[Open3D INFO] WebRTCWindowSystem: HTTP handshake server disabled.\n"
     ]
    }
   ],
   "source": [
    "import matplotlib.pyplot as plt\n",
    "from tree_learn.util import (plot_instance_evaluation_segments, load_results, get_qualitative_assessment, \n",
    "                             get_semantic_assessment, get_instance_assessment)\n",
    "\n",
    "%load_ext autoreload\n",
    "%autoreload 2\n"
   ]
  },
  {
   "cell_type": "code",
   "execution_count": 2,
   "metadata": {},
   "outputs": [],
   "source": [
    "benchmark_forest_path = '../../data/benchmark/L1W_voxelized01.laz' # path to benchmark forest\n",
    "instance_evaluation_path = '../../data/pipeline/L1W/results/full_forest/instance_evaluation.pt' # path to instance evaluation object (change according to where your evaluation was performed)\n",
    "\n",
    "NON_TREE_CLASS_IN_INSTANCE_PREDS = 0\n",
    "NON_TREES_CLASS_IN_INSTANCE_LABELS = 0\n",
    "UNLABELED_CLASS_IN_INSTANCE_LABELS = -1"
   ]
  },
  {
   "cell_type": "markdown",
   "metadata": {},
   "source": [
    "# loading data"
   ]
  },
  {
   "cell_type": "code",
   "execution_count": 3,
   "metadata": {},
   "outputs": [],
   "source": [
    "instance_evaluation, instance_labels, instance_preds = load_results(instance_evaluation_path, benchmark_forest_path, UNLABELED_CLASS_IN_INSTANCE_LABELS)"
   ]
  },
  {
   "cell_type": "markdown",
   "metadata": {},
   "source": [
    "# qualitative assessment of detections"
   ]
  },
  {
   "cell_type": "code",
   "execution_count": null,
   "metadata": {},
   "outputs": [],
   "source": [
    "n_fp, n_fn = get_qualitative_assessment(instance_evaluation)"
   ]
  },
  {
   "cell_type": "markdown",
   "metadata": {},
   "source": [
    "# semantic segmentation"
   ]
  },
  {
   "cell_type": "code",
   "execution_count": null,
   "metadata": {},
   "outputs": [],
   "source": [
    "get_semantic_assessment(instance_labels, instance_preds, non_tree_class_in_instance_preds=NON_TREE_CLASS_IN_INSTANCE_PREDS, non_tree_class_in_instance_labels=NON_TREES_CLASS_IN_INSTANCE_LABELS)"
   ]
  },
  {
   "cell_type": "markdown",
   "metadata": {},
   "source": [
    "# instance segmentation"
   ]
  },
  {
   "cell_type": "code",
   "execution_count": null,
   "metadata": {},
   "outputs": [],
   "source": [
    "get_instance_assessment(instance_evaluation)"
   ]
  },
  {
   "cell_type": "code",
   "execution_count": null,
   "metadata": {},
   "outputs": [],
   "source": [
    "color = '#010003'\n",
    "fontsize=7\n",
    "fig_size=(4,1)\n",
    "y_range=[60, 100]\n",
    "x_label = \"Center \\u2192 Outer branches\"\n",
    "fig, axs = plt.subplots(1, 3, figsize=fig_size)\n",
    "plt.tight_layout()\n",
    "\n",
    "\n",
    "# precision\n",
    "values = instance_evaluation['segmentation_results']['xy_partition_relative'].iloc[:, 2:12].mean(0).to_numpy() * 100\n",
    "axs[0] = plot_instance_evaluation_segments(axs[0], values, fontsize=fontsize, measure=\"Precision in %\", y_range=y_range, color=color, x_label=x_label)\n",
    "\n",
    "# recall\n",
    "values = instance_evaluation['segmentation_results']['xy_partition_relative'].iloc[:, 12:22].mean(0).to_numpy() * 100\n",
    "axs[1] = plot_instance_evaluation_segments(axs[1], values, fontsize=fontsize, measure=\"Recall in %\", y_range=y_range, color=color, x_label=x_label)\n",
    "\n",
    "\n",
    "# f1-score\n",
    "values = instance_evaluation['segmentation_results']['xy_partition_relative'].iloc[:, 22:32].mean(0).to_numpy() * 100\n",
    "axs[2] = plot_instance_evaluation_segments(axs[2], values, fontsize=fontsize, measure=\"F1-Score in %\", y_range=y_range, color=color, x_label=x_label)\n",
    "\n",
    "fig.subplots_adjust(wspace=0.45, left=0, right=1, bottom=0.15, top=1)\n",
    "plt.show()"
   ]
  },
  {
   "cell_type": "code",
   "execution_count": null,
   "metadata": {},
   "outputs": [],
   "source": [
    "color = '#010003'\n",
    "fontsize=7\n",
    "fig_size=(4,1)\n",
    "y_range=[60, 100]\n",
    "x_label = \"Bottom \\u2192 Top\"\n",
    "fig, axs = plt.subplots(1, 3, figsize=fig_size)\n",
    "plt.tight_layout()\n",
    "\n",
    "\n",
    "# precision\n",
    "values = instance_evaluation['segmentation_results']['z_partition_relative'].iloc[:, 2:12].mean(0).to_numpy() * 100\n",
    "axs[0] = plot_instance_evaluation_segments(axs[0], values, fontsize=fontsize, measure=\"Precision in %\", y_range=y_range, color=color, x_label=x_label)\n",
    "\n",
    "# recall\n",
    "values = instance_evaluation['segmentation_results']['z_partition_relative'].iloc[:, 12:22].mean(0).to_numpy() * 100\n",
    "axs[1] = plot_instance_evaluation_segments(axs[1], values, fontsize=fontsize, measure=\"Recall in %\", y_range=y_range, color=color, x_label=x_label)\n",
    "\n",
    "\n",
    "# f1-score\n",
    "values = instance_evaluation['segmentation_results']['z_partition_relative'].iloc[:, 22:32].mean(0).to_numpy() * 100\n",
    "axs[2] = plot_instance_evaluation_segments(axs[2], values, fontsize=fontsize, measure=\"F1-Score in %\", y_range=y_range, color=color, x_label=x_label)\n",
    "\n",
    "fig.subplots_adjust(wspace=0.45, left=0, right=1, bottom=0.15, top=1)\n",
    "plt.show()"
   ]
  }
 ],
 "metadata": {
  "kernelspec": {
   "display_name": "tree_learn_deimos",
   "language": "python",
   "name": "python3"
  },
  "language_info": {
   "codemirror_mode": {
    "name": "ipython",
    "version": 3
   },
   "file_extension": ".py",
   "mimetype": "text/x-python",
   "name": "python",
   "nbconvert_exporter": "python",
   "pygments_lexer": "ipython3",
   "version": "3.9.18"
  },
  "orig_nbformat": 4
 },
 "nbformat": 4,
 "nbformat_minor": 2
}
