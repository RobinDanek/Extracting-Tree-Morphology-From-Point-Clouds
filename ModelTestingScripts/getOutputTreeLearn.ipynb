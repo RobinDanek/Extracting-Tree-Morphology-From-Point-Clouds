{
 "cells": [
  {
   "cell_type": "code",
   "execution_count": 1,
   "metadata": {},
   "outputs": [],
   "source": [
    "import torch\n",
    "import numpy as np\n",
    "import os\n",
    "from Modules.TreeLearn.TreeLearn import TreeLearn\n",
    "from Modules.Testing import testModel, loadAndMakePrediction"
   ]
  },
  {
   "cell_type": "code",
   "execution_count": 2,
   "metadata": {},
   "outputs": [],
   "source": [
    "modelPath=os.path.join( os.path.dirname(os.getcwd()), 'ModelSaves', 'TreeLearn', 'TreeLearn_U3_V0.02_N0.1.pt' )\n",
    "dim_feat=1\n",
    "use_coords=True\n",
    "use_feats=True\n",
    "num_blocks = 3\n",
    "voxel_size = 0.02\n",
    "\n",
    "points, labels, offset_predictions = loadAndMakePrediction(modelPath, dim_feat, use_coords, use_feats, num_blocks, voxel_size)"
   ]
  },
  {
   "cell_type": "code",
   "execution_count": 4,
   "metadata": {},
   "outputs": [],
   "source": [
    "processed_cloud = points + offset_predictions\n",
    "\n",
    "output_file = os.path.join(os.path.dirname(os.getcwd()), 'modelOutputs', 'TreeLearn', '42_3_processed.txt')\n",
    "\n",
    "np.savetxt(output_file, processed_cloud, fmt=\"%.6f\", delimiter=\" \")"
   ]
  },
  {
   "cell_type": "code",
   "execution_count": null,
   "metadata": {},
   "outputs": [],
   "source": []
  }
 ],
 "metadata": {
  "kernelspec": {
   "display_name": "TreeLearn_exp",
   "language": "python",
   "name": "python3"
  },
  "language_info": {
   "codemirror_mode": {
    "name": "ipython",
    "version": 3
   },
   "file_extension": ".py",
   "mimetype": "text/x-python",
   "name": "python",
   "nbconvert_exporter": "python",
   "pygments_lexer": "ipython3",
   "version": "3.9.21"
  }
 },
 "nbformat": 4,
 "nbformat_minor": 2
}
